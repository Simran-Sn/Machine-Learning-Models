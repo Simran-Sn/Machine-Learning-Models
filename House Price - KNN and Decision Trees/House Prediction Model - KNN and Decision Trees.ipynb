{
 "cells": [
  {
   "cell_type": "markdown",
   "id": "24811039",
   "metadata": {},
   "source": [
    "# House Price Prediction using KNN (K-Nearest Neighbours) and Decision Tree Models"
   ]
  },
  {
   "cell_type": "markdown",
   "id": "59015783",
   "metadata": {},
   "source": [
    "## Step 1:\n",
    "### Q1: How many rows are there?"
   ]
  },
  {
   "cell_type": "code",
   "execution_count": 1,
   "id": "7d41033a",
   "metadata": {},
   "outputs": [
    {
     "name": "stdout",
     "output_type": "stream",
     "text": [
      "Number of rows: 10659\n"
     ]
    }
   ],
   "source": [
    "import pandas as pd\n",
    "\n",
    "hPrice = pd.read_csv('House_Prices.csv')\n",
    "\n",
    "print('Number of rows:', hPrice.shape[0])\n"
   ]
  },
  {
   "cell_type": "markdown",
   "id": "bcba41b8",
   "metadata": {},
   "source": [
    "### Q2: Looks like there are some extra columns with row markers that appeared over the cleaning process.  How many \"actual\" columns are there?\n"
   ]
  },
  {
   "cell_type": "code",
   "execution_count": 2,
   "id": "4cff7662",
   "metadata": {},
   "outputs": [
    {
     "name": "stdout",
     "output_type": "stream",
     "text": [
      "Number of columns: 13\n"
     ]
    }
   ],
   "source": [
    "print('Number of columns:', hPrice.shape[1])"
   ]
  },
  {
   "cell_type": "markdown",
   "id": "6545e0d5",
   "metadata": {},
   "source": [
    "### Q3: Why are the dates just numbers?  Why is this ok?\n",
    "The dates are just numbers because it makes it easier to perform calculations on (as they are numerical values). \n",
    "\n",
    "Also, we are able to analyze this data to see any seasonal trends and peaks of when people buy houses if the dates are set to numerical values."
   ]
  },
  {
   "cell_type": "markdown",
   "id": "dc9f1fa3",
   "metadata": {},
   "source": [
    "## Step 2:\n",
    "### Q1: Create your X and Y for the model.  We are predicting the town, so including the closest university would make the test too easy, so exclude that column, and any record IDs."
   ]
  },
  {
   "cell_type": "code",
   "execution_count": 3,
   "id": "f5b59463",
   "metadata": {
    "scrolled": true
   },
   "outputs": [],
   "source": [
    "# Create X and Y data sets\n",
    "Y = hPrice['Town']\n",
    "\n",
    "X = hPrice[['Sale_amount', 'Sale_date', 'Beds', 'Baths', 'Sqft_home', 'Sqft_lot', 'Type', 'Build_year']]\n"
   ]
  },
  {
   "cell_type": "markdown",
   "id": "ccc5ccc5",
   "metadata": {},
   "source": [
    "### Q2: Split into A Training and Test Set\n"
   ]
  },
  {
   "cell_type": "code",
   "execution_count": 4,
   "id": "08c17629",
   "metadata": {},
   "outputs": [],
   "source": [
    "from sklearn.model_selection import train_test_split\n",
    "\n",
    "# split the data: 80% training and 20% testing\n",
    "X_train, X_test, Y_train, Y_test = train_test_split(X, Y, test_size=0.2, random_state=0)\n"
   ]
  },
  {
   "cell_type": "markdown",
   "id": "a1218a86",
   "metadata": {},
   "source": [
    "### Q3: Train the model"
   ]
  },
  {
   "cell_type": "code",
   "execution_count": 5,
   "id": "bee9d4c1",
   "metadata": {},
   "outputs": [
    {
     "name": "stdout",
     "output_type": "stream",
     "text": [
      "KNN cross-validation mean score: 0.13486710695045606\n",
      "Decision Tree cross-validation mean score: 0.26328177589532203\n"
     ]
    }
   ],
   "source": [
    "from sklearn.neighbors import KNeighborsClassifier\n",
    "from sklearn.tree import DecisionTreeClassifier\n",
    "from sklearn.model_selection import cross_val_score\n",
    "\n",
    "# create a KNN model and use cross validation to evaluate it\n",
    "knn = KNeighborsClassifier(n_neighbors=5)\n",
    "knn_cv_score = cross_val_score(knn, X_train, Y_train, cv=5).mean()\n",
    "\n",
    "# create a Decision Tree model and use cross validation to evaluate it\n",
    "dt = DecisionTreeClassifier(max_depth=7)\n",
    "dt_cv_score = cross_val_score(dt, X_train, Y_train, cv=5).mean()\n",
    "\n",
    "# print the cross-validation scores\n",
    "print(\"KNN cross-validation mean score:\", knn_cv_score)\n",
    "print(\"Decision Tree cross-validation mean score:\", dt_cv_score)"
   ]
  },
  {
   "cell_type": "markdown",
   "id": "ecef1b8b",
   "metadata": {},
   "source": [
    "### Q4: Use the accuracy_score function to pick a good model"
   ]
  },
  {
   "cell_type": "code",
   "execution_count": 6,
   "id": "2a234656",
   "metadata": {
    "scrolled": true
   },
   "outputs": [
    {
     "name": "stdout",
     "output_type": "stream",
     "text": [
      "KNN Classifier Training Accuracy:  0.3667174856338689\n",
      "KNN Classifier Testing Accuracy:  0.12148217636022514\n",
      "Decision Tree Classifier Training Accuracy:  0.31101207927758884\n",
      "Decision Tree Classifier Testing Accuracy:  0.25140712945590993\n"
     ]
    }
   ],
   "source": [
    "# use accuracy_score to pick the better model (that has a higher accuracy)\n",
    "from sklearn.metrics import accuracy_score\n",
    "\n",
    "# KNN Classifier\n",
    "knn_1 = knn.fit(X_train, Y_train)\n",
    "knn_train_acc = accuracy_score(Y_train, knn_1.predict(X_train))\n",
    "knn_test_acc = accuracy_score(Y_test, knn_1.predict(X_test))\n",
    "print(\"KNN Classifier Training Accuracy: \", knn_train_acc)\n",
    "print(\"KNN Classifier Testing Accuracy: \", knn_test_acc)\n",
    "\n",
    "# Decision Tree Classifier\n",
    "dt_1 = dt.fit(X_train, Y_train)\n",
    "dt_train_acc = accuracy_score(dt_1.predict(X_train), Y_train)\n",
    "dt_test_acc = accuracy_score(Y_test, dt_1.predict(X_test))\n",
    "print(\"Decision Tree Classifier Training Accuracy: \", dt_train_acc)\n",
    "print(\"Decision Tree Classifier Testing Accuracy: \", dt_test_acc)\n",
    "\n"
   ]
  },
  {
   "cell_type": "markdown",
   "id": "e2b34380",
   "metadata": {},
   "source": [
    "### Q5: Test out your one best model using your test set. "
   ]
  },
  {
   "cell_type": "code",
   "execution_count": 7,
   "id": "0e8d7a5c",
   "metadata": {},
   "outputs": [
    {
     "name": "stdout",
     "output_type": "stream",
     "text": [
      "The best model with the higher testing accuracy is: DecisionTreeClassifier(max_depth=7)\n"
     ]
    }
   ],
   "source": [
    "# Pick the model with the highest testing accuracy\n",
    "best_model = knn if knn_test_acc > dt_test_acc else dt\n",
    "\n",
    "# Predict the target variable (Town) using the best model and the test set\n",
    "Y_pred = best_model.predict(X_test)\n",
    "print(\"The best model with the higher testing accuracy is:\", best_model)"
   ]
  },
  {
   "cell_type": "markdown",
   "id": "eebadefd",
   "metadata": {},
   "source": [
    "Comparing the KNN model to the Decision tree model, the testing accuracy for the decision tree model was higher. However, realistically, this may not be the most accurate model since I chose the random_state as 0 and the max_depth of the decision tree to be 7, if the max_depth was at the optimal point (in an ideal situation), it would provide a better testing accuracy, but this model would be more complex and would take more time to output a result. Similarly, I chose the n_neighbours value for KNN as 5, ideally, choosing the optimal knn value would provide better testing accuracy."
   ]
  },
  {
   "cell_type": "markdown",
   "id": "529edffe",
   "metadata": {},
   "source": [
    "### Q6: Present your findings.  Was your testing accuracy as good as your training?  What did you think happened?"
   ]
  },
  {
   "cell_type": "code",
   "execution_count": 10,
   "id": "d433d1f3",
   "metadata": {},
   "outputs": [
    {
     "name": "stdout",
     "output_type": "stream",
     "text": [
      "Decision Tree Classifier Training Accuracy: 0.31101207927758884\n",
      "Decision Tree Classifier Testing Accuracy 0.25140712945590993\n",
      "Is Testing Accuracy as good as Training Accuracy?  False\n",
      "The testing accuracy is not as good as the training accuracy, indicating that the model is overfitting and may not generalize well to new data.\n"
     ]
    }
   ],
   "source": [
    "#findings for the best model: Decision Tree Classifier\n",
    "\n",
    "print(\"Decision Tree Classifier Training Accuracy:\", dt_train_acc)\n",
    "print(\"Decision Tree Classifier Testing Accuracy\", dt_test_acc)\n",
    "\n",
    "# Compare testing accuracy with training accuracy\n",
    "print(\"Is Testing Accuracy as good as Training Accuracy? \", dt_test_acc == dt_train_acc)\n",
    "\n",
    "# Explanation\n",
    "if dt_test_acc == dt_train_acc:\n",
    "    print(\"The testing accuracy is as good as the training accuracy, indicating that the model is not overfitting and can generalize well to new data.\")\n",
    "else:\n",
    "    print(\"The testing accuracy is not as good as the training accuracy, indicating that the model is overfitting and may not generalize well to new data.\")\n"
   ]
  },
  {
   "cell_type": "markdown",
   "id": "fe1dcf2f",
   "metadata": {},
   "source": [
    "Although the Decision Tree model is more accurate compared to the KNN model, the training accuracy of the 'best' model is still higher than the the testing accuracy. This would indicate that the model is overfitting to the training data. Hence, the model learned the random fluctuations in the training data instead of understanding the underlying pattern. So, the model may not generalize to the new data and perform well on it."
   ]
  },
  {
   "cell_type": "markdown",
   "id": "fd712c73",
   "metadata": {},
   "source": [
    "# Q7: What town do you think Lee's house is in?  Use your model to predict."
   ]
  },
  {
   "cell_type": "code",
   "execution_count": 11,
   "id": "7c92fc5f",
   "metadata": {},
   "outputs": [
    {
     "name": "stdout",
     "output_type": "stream",
     "text": [
      "The predicted town for Lee's house is: 47\n"
     ]
    }
   ],
   "source": [
    "#new_home = [sale price, sale date, no. bedrooms, no. bath, sq ft of house, sq. ft. of lot,\n",
    "#            type of house,year built]\n",
    "new_home = [350000, 43201, 3, 2, 1450, 40000, 1, 1992,]\n",
    "\n",
    "town = dt.predict([new_home])\n",
    "print(\"The predicted town for Lee's house is:\", town[0])"
   ]
  },
  {
   "cell_type": "markdown",
   "id": "b1d1824a",
   "metadata": {},
   "source": [
    "I chose the best model (decision tree classifier) to predict what town Lee's house is in, since it would provide a more accurate prediction of the town compared to KNN. Although, the data is overfitting for both models, the decision tree had a higher testing accuracy. "
   ]
  },
  {
   "cell_type": "code",
   "execution_count": null,
   "id": "6a24aeaa",
   "metadata": {},
   "outputs": [],
   "source": []
  }
 ],
 "metadata": {
  "kernelspec": {
   "display_name": "Python 3 (ipykernel)",
   "language": "python",
   "name": "python3"
  },
  "language_info": {
   "codemirror_mode": {
    "name": "ipython",
    "version": 3
   },
   "file_extension": ".py",
   "mimetype": "text/x-python",
   "name": "python",
   "nbconvert_exporter": "python",
   "pygments_lexer": "ipython3",
   "version": "3.9.7"
  }
 },
 "nbformat": 4,
 "nbformat_minor": 5
}

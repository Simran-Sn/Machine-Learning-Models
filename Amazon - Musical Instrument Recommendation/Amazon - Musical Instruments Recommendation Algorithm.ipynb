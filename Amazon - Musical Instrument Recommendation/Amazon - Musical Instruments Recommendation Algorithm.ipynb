{
 "cells": [
  {
   "cell_type": "markdown",
   "metadata": {},
   "source": [
    "## Recommendation Algorithm\n",
    "This project looks at Amazon reviews.  This dataset comes from https://jmcauley.ucsd.edu/data/amazon/, and is a subset of a large dataset, just showing reviews for musical instruments."
   ]
  },
  {
   "cell_type": "code",
   "execution_count": 105,
   "metadata": {},
   "outputs": [],
   "source": [
    "##load some packages\n",
    "\n",
    "import random\n",
    "import pandas\n",
    "import matplotlib.pyplot as plt\n",
    "import numpy as np\n",
    "\n",
    "## this will optimize our math\n",
    "from scipy.sparse import csr_matrix as sparse_matrix\n",
    "\n",
    "from sklearn.neighbors import NearestNeighbors\n",
    "\n",
    "\n",
    "import os\n",
    "\n",
    "## You can add more here, if you need it!\n"
   ]
  },
  {
   "cell_type": "code",
   "execution_count": 106,
   "metadata": {},
   "outputs": [],
   "source": [
    "## read in the data set\n",
    "amazon = pandas.read_csv(\"ratings_Musical_Instruments.csv\",names=(\"user\",\"item\",\"rating\",\"timestamp\"))"
   ]
  },
  {
   "cell_type": "markdown",
   "metadata": {},
   "source": [
    "### Part 1: Descriptive Questions:\n",
    "\n",
    "1. How big is the dataset, in rows and columns?\n",
    "* How many unique users are there?\n",
    "* How many unique items are there?\n",
    "* The user who rated the most instruments has rated how many items?\n",
    "* The item with the MOST ratings is what? How many ratings does it have?  Hint: Check out the Amazon website, by going to \"www.amazon.com/dp/item_code\", where you put the item into item_code.\n",
    "* The item with the highest mean average rating is what?  What is the rating?\n",
    "* What is the item with the lowest mean average?  What is the rating?\n",
    "* If we built a matrix with all of the users and items, how large would it be? (dimensions, and how many total entries)\n",
    "* Looking at the size of the dataset, what is the percentage of non-zero entries in the matrix?"
   ]
  },
  {
   "cell_type": "code",
   "execution_count": 107,
   "metadata": {
    "scrolled": true
   },
   "outputs": [
    {
     "name": "stdout",
     "output_type": "stream",
     "text": [
      "Dataset size:  (500176, 4)\n",
      "Unique users:  339231\n",
      "Unique items:  83046\n",
      "User with the most ratings:  A2PAD826IH1HFE\n",
      "Number of ratings:  483\n",
      "Item with the most ratings:  B000ULAP4U\n",
      "Number of ratings:  3523\n",
      "Item with the highest mean rating:  0014072149\n",
      "Mean rating:  5.0\n",
      "Item with the lowest mean rating:  0201891859\n",
      "Mean rating:  1.0\n",
      "Size of full X matrix (GB): 225.374221008\n",
      "Percentage of non-zero entries: 0.0017754506181334572\n"
     ]
    }
   ],
   "source": [
    "# How big is the dataset, in rows and columns?\n",
    "print(\"Dataset size: \", amazon.shape)\n",
    "\n",
    "d = amazon['user'].nunique()\n",
    "n = amazon['item'].nunique()\n",
    "\n",
    "# How many unique users are there?\n",
    "print(\"Unique users: \", d)\n",
    "\n",
    "# How many unique items are there?\n",
    "print(\"Unique items: \", n)\n",
    "\n",
    "# The user who rated the most instruments has rated how many items?\n",
    "user_ratings = amazon.groupby('user')['rating'].count()\n",
    "print(\"User with the most ratings: \", user_ratings.idxmax())\n",
    "print(\"Number of ratings: \", user_ratings.max())\n",
    "\n",
    "# The item with the MOST ratings is what? How many ratings does it have?\n",
    "item_ratings = amazon.groupby('item')['rating'].count()\n",
    "print(\"Item with the most ratings: \", item_ratings.idxmax())\n",
    "print(\"Number of ratings: \", item_ratings.max())\n",
    "\n",
    "# The item with the highest mean average rating is what? What is the rating?\n",
    "item_mean_ratings = amazon.groupby('item')['rating'].mean()\n",
    "print(\"Item with the highest mean rating: \", item_mean_ratings.idxmax())\n",
    "print(\"Mean rating: \", item_mean_ratings.max())\n",
    "\n",
    "# What is the item with the lowest mean average? What is the rating?\n",
    "print(\"Item with the lowest mean rating: \", item_mean_ratings.idxmin())\n",
    "print(\"Mean rating: \", item_mean_ratings.min())\n",
    "\n",
    "# If we built a matrix with all of the users and items, how large would it be?\n",
    "print(\"Size of full X matrix (GB):\", (n*d)*8/1e9)\n",
    "\n",
    "# Looking at the size of the dataset, what is the percentage of non-zero entries in the matrix?\n",
    "sparsity = (len(amazon) / (n * d))*100\n",
    "print(\"Percentage of non-zero entries:\", sparsity)"
   ]
  },
  {
   "cell_type": "code",
   "execution_count": 110,
   "metadata": {},
   "outputs": [],
   "source": [
    "## Here, redefine the following, for later on:\n",
    "\n",
    "n = amazon['item'].nunique() # the number of unique items (not 10!)\n",
    "d = amazon['user'].nunique() # the number of unique users (more than 6!)\n",
    "\n",
    "## These will need to be correct for you to finish"
   ]
  },
  {
   "cell_type": "code",
   "execution_count": 111,
   "metadata": {},
   "outputs": [],
   "source": [
    "## Here we are making the same sparse matrix that we made in class\n",
    "## Look it over, but don't worry overly\n",
    "\n",
    "def create_X(ratings,n,d,user_key=\"user\",item_key=\"item\"):\n",
    "    user_mapper = dict(zip(np.unique(ratings[user_key]), list(range(d))))\n",
    "    item_mapper = dict(zip(np.unique(ratings[item_key]), list(range(n))))\n",
    "\n",
    "    user_inverse_mapper = dict(zip(list(range(d)), np.unique(ratings[user_key])))\n",
    "    item_inverse_mapper = dict(zip(list(range(n)), np.unique(ratings[item_key])))\n",
    "\n",
    "    user_ind = [user_mapper[i] for i in ratings[user_key]]\n",
    "    item_ind = [item_mapper[i] for i in ratings[item_key]]\n",
    "\n",
    "    X = sparse_matrix((ratings[\"rating\"], (item_ind, user_ind)), shape=(n,d))\n",
    "    \n",
    "    return X, user_mapper, item_mapper, user_inverse_mapper, item_inverse_mapper, user_ind, item_ind\n",
    "\n"
   ]
  },
  {
   "cell_type": "code",
   "execution_count": 112,
   "metadata": {},
   "outputs": [],
   "source": [
    "## define X in a new window\n",
    "## For this to work, you need to define n and d properly above!\n",
    "## The error you see is BECAUSE n and d are incorrect\n",
    "\n",
    "X, user_mapper, item_mapper, user_inverse_mapper, item_inverse_mapper, user_ind, item_ind = create_X(amazon, n=n, d=d)"
   ]
  },
  {
   "cell_type": "markdown",
   "metadata": {},
   "source": [
    "## Part 2: Try some Machine Learning\n",
    "\n",
    "Thinking of the code from our movie exploration in class, build a BASIC recommender for similar items.  You can do ANY of the following, but you need to choose at least 1:\n",
    "* Use KNN with at least two different iterations to find 5 items that are close to a spcific item.  In class, my algorithm always returned the original movie in the list - can you modify the code so this doesn't happen?\n",
    "* Use *any type of clustering* to cluster items OR users into groups that are similar.\n",
    "* Can you decompose the matrix via PCA?  How can this help us recommend?\n"
   ]
  },
  {
   "cell_type": "code",
   "execution_count": 113,
   "metadata": {},
   "outputs": [
    {
     "name": "stdout",
     "output_type": "stream",
     "text": [
      "Items similar to B001J77DQC using Euclidean distance metric: ['B003SPJ4MO', 'B001J77DQC', 'B003LUH61M', 'B002KPINOS', 'B000KGGLHU']\n",
      "Items similar to B001J77DQC using cosine distance metric: ['B004I65D8G', 'B001J77DQC', 'B003LUH61M', 'B000KGGLHU', 'B001EYX0DK']\n"
     ]
    }
   ],
   "source": [
    "# initialize the KNN model with Euclidean distance metric\n",
    "model_euc = NearestNeighbors(n_neighbors=6, metric='euclidean')\n",
    "\n",
    "# fit the model using the X matrix\n",
    "model_euc.fit(X)\n",
    "\n",
    "# choose a random item as the query item\n",
    "query_item = np.random.choice(list(item_mapper.keys()))\n",
    "\n",
    "# find the k nearest neighbors of the query item using Euclidean distance metric\n",
    "query_item_index = item_mapper[query_item]\n",
    "distances_euc, indices_euc = model_euc.kneighbors(X[query_item_index].reshape(1, -1))\n",
    "\n",
    "# exclude the first item, which is always the same as the query item\n",
    "similar_items_euc = [item_inverse_mapper[indices_euc.flatten()[i]] \n",
    "                     for i in range(1, len(indices_euc.flatten()))]\n",
    "print(\"Items similar to\", query_item, \"using Euclidean distance metric:\", similar_items_euc)\n",
    "\n",
    "\n",
    "# initialize the KNN model with cosine distance metric\n",
    "model_cos = NearestNeighbors(n_neighbors=6, metric='cosine')\n",
    "\n",
    "# fit the model using the X matrix\n",
    "model_cos.fit(X)\n",
    "\n",
    "# find the k nearest neighbors of the query item using cosine distance metric\n",
    "distances_cos, indices_cos = model_cos.kneighbors(X[query_item_index].reshape(1, -1))\n",
    "\n",
    "# exclude the first item, which is always the same as the query item\n",
    "similar_items_cos = [item_inverse_mapper[indices_cos.flatten()[i]] \n",
    "                     for i in range(1, len(indices_cos.flatten()))]\n",
    "print(\"Items similar to\", query_item, \"using cosine distance metric:\", similar_items_cos)"
   ]
  },
  {
   "cell_type": "markdown",
   "metadata": {},
   "source": [
    "Using your work above, do the following:\n",
    "\n",
    "1. Create *some sort* of recomendation system, and \n",
    "* EXPLAIN what you have done and why\n",
    "* What are the three top products you would recommend to a new user with no rating or purchasing history (the \"cold start\" problem).\n",
    "* What rating do you think a new user would give to item \"B009CIIWQA\" (a rechargeable Music Stand LED lamp, at https://www.amazon.com/dp/B009CIIWQA\n",
    "* What are the top three products you would recommend to user \"A27L1LDJZVRLJD\"?\n",
    "* What rating do you think user \"A27L1LDJZVRLJD\" would give to the LED music lamp, item \"B009CIIWQA\"?"
   ]
  },
  {
   "cell_type": "markdown",
   "metadata": {},
   "source": [
    "## Explain what I have done and why\n",
    "This code is a recommendation system that suggests items similar to a randomly chosen query item using the KNN with two distance metrics, Euclidean and Cosine.\n",
    "\n",
    "The code initializes a KNN model with k set to 6 (the system will recommend 6 similar items - one of which is the item that is selected to show the other 5 items that are similar to that 1 item). and trains it on a data matrix called X, containing features of all the items. Then, a random query item is chosen and the model finds the k nearest neighbors of the query item using Euclidean and Cosine distances, respectively. \n",
    "\n",
    "Note that the KNN excludes the first item in the list of similar items, which is always the same as the query item, and prints the remaining items that are similar to the randomly chosen item, based on each distance metric.\n",
    "\n",
    "The code prints a list of items similar to the query item using both distance metrics.\n"
   ]
  },
  {
   "cell_type": "markdown",
   "metadata": {},
   "source": [
    "## What are the three top products you would recommend to a new user with no rating or purchasing history (the \"cold start\" problem)."
   ]
  },
  {
   "cell_type": "code",
   "execution_count": 114,
   "metadata": {},
   "outputs": [
    {
     "name": "stdout",
     "output_type": "stream",
     "text": [
      "Top 3 items to recommend to a new user:\n",
      "- B001QKQXWW: 5.00\n",
      "- B002GNOMK8: 5.00\n",
      "- B002GOSEME: 5.00\n"
     ]
    }
   ],
   "source": [
    "item_mean_ratings = amazon.groupby('item')['rating'].mean()\n",
    "top_items = item_mean_ratings.sort_values(ascending=False)[:3]\n",
    "print(\"Top 3 items to recommend to a new user:\")\n",
    "for item, rating in top_items.iteritems():\n",
    "    print(f\"- {item}: {rating:.2f}\")"
   ]
  },
  {
   "cell_type": "markdown",
   "metadata": {},
   "source": [
    "## What rating do you think a new user would give to item \"B009CIIWQA\" (a rechargeable Music Stand LED lamp, at https://www.amazon.com/dp/B009CIIWQA"
   ]
  },
  {
   "cell_type": "code",
   "execution_count": 115,
   "metadata": {},
   "outputs": [
    {
     "name": "stdout",
     "output_type": "stream",
     "text": [
      "A new user would likely give item B009CIIWQA a rating of 4.00\n"
     ]
    }
   ],
   "source": [
    "query_item = \"B009CIIWQA\"\n",
    "query_item_index = item_mapper[query_item]\n",
    "distances, indices = model_cos.kneighbors(X[query_item_index].reshape(1, -1))\n",
    "neighbor_ratings = [X[neighbor_index, :].sum() / (X[neighbor_index, :] != 0).sum() for neighbor_index in indices.flatten()[1:]]\n",
    "estimated_rating = sum(neighbor_ratings) / len(neighbor_ratings)\n",
    "print(f\"A new user would likely give item {query_item} a rating of {estimated_rating:.2f}\")"
   ]
  },
  {
   "cell_type": "markdown",
   "metadata": {},
   "source": [
    "## What are the top three products you would recommend to user \"A27L1LDJZVRLJD\"?"
   ]
  },
  {
   "cell_type": "code",
   "execution_count": 116,
   "metadata": {},
   "outputs": [
    {
     "name": "stdout",
     "output_type": "stream",
     "text": [
      "Top three products recommended to user A27L1LDJZVRLJD : ['B00HTXIP4E', 'B00I9ZITRY', 'B00BUME2XS']\n"
     ]
    }
   ],
   "source": [
    "# get the user ID\n",
    "user_id = \"A27L1LDJZVRLJD\"\n",
    "\n",
    "# get the index of the user in the X matrix\n",
    "user_index = user_mapper[user_id]\n",
    "\n",
    "# find the items that the user has already rated\n",
    "rated_items = set(amazon.loc[amazon['user']==user_id, 'item'])\n",
    "\n",
    "# find the k nearest neighbors of the items the user has already rated\n",
    "similar_items = set()\n",
    "for item in rated_items:\n",
    "    item_index = item_mapper[item]\n",
    "    distances, indices = model_cos.kneighbors(X[item_index].reshape(1, -1))\n",
    "    similar_items.update([item_inverse_mapper[i] for i in indices.flatten()[1:]])\n",
    "\n",
    "# select the top three items that the user has not rated\n",
    "recommendations = []\n",
    "for item in similar_items:\n",
    "    if item not in rated_items:\n",
    "        recommendations.append(item)\n",
    "    if len(recommendations) == 3:\n",
    "        break\n",
    "\n",
    "print(\"Top three products recommended to user\", user_id, \":\", recommendations)\n"
   ]
  },
  {
   "cell_type": "markdown",
   "metadata": {},
   "source": [
    "## What rating do you think user \"A27L1LDJZVRLJD\" would give to the LED music lamp, item \"B009CIIWQA\"?"
   ]
  },
  {
   "cell_type": "code",
   "execution_count": 117,
   "metadata": {},
   "outputs": [
    {
     "name": "stdout",
     "output_type": "stream",
     "text": [
      "Predicted rating for user A27L1LDJZVRLJD on item B009CIIWQA: 0.0\n"
     ]
    }
   ],
   "source": [
    "# Find the index of the user \"A27L1LDJZVRLJD\" in the X matrix\n",
    "user_index = user_mapper[\"A27L1LDJZVRLJD\"]\n",
    "\n",
    "# Find the index of the item \"B009CIIWQA\" in the X matrix\n",
    "item_index = item_mapper[\"B009CIIWQA\"]\n",
    "\n",
    "# Find the indices of the k nearest neighbors of the item \"B009CIIWQA\" using the KNN model\n",
    "distances, indices = model_cos.kneighbors(X[item_index].reshape(1, -1))\n",
    "\n",
    "# Get the ratings of the k nearest neighbors for the item \"B009CIIWQA\" from the X matrix\n",
    "neighbor_ratings = X[indices.flatten(), user_index].toarray().flatten()\n",
    "\n",
    "# Compute the weighted average of the ratings using the distances as weights\n",
    "weights = 1 / distances.flatten()\n",
    "predicted_rating = np.dot(neighbor_ratings, weights) / np.sum(weights)\n",
    "\n",
    "# Return the predicted rating for user \"A27L1LDJZVRLJD\"\n",
    "print(\"Predicted rating for user A27L1LDJZVRLJD on item B009CIIWQA:\", predicted_rating)\n"
   ]
  },
  {
   "cell_type": "code",
   "execution_count": null,
   "metadata": {},
   "outputs": [],
   "source": []
  }
 ],
 "metadata": {
  "kernelspec": {
   "display_name": "Python 3 (ipykernel)",
   "language": "python",
   "name": "python3"
  },
  "language_info": {
   "codemirror_mode": {
    "name": "ipython",
    "version": 3
   },
   "file_extension": ".py",
   "mimetype": "text/x-python",
   "name": "python",
   "nbconvert_exporter": "python",
   "pygments_lexer": "ipython3",
   "version": "3.9.7"
  }
 },
 "nbformat": 4,
 "nbformat_minor": 2
}
